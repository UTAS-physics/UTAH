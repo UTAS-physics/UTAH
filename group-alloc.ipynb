{
 "cells": [
  {
   "cell_type": "markdown",
   "id": "209fd1dc-a573-4ca1-b004-95e07c84d3b6",
   "metadata": {},
   "source": [
    "# UTAH: UTAS Teaching and Administration Helper\n",
    "\n",
    "UTAH is a collection of code that _may_ improve teaching and associated adminsistrative tasks easier, or at least make them regimented, repeatable and sharable.\n",
    "\n",
    "**Version**: 1.0\n",
    "**Created**: 05/09/2025 (AJM)  \n",
    "**Updated**: 05/09/2025 (AJM)"
   ]
  },
  {
   "cell_type": "markdown",
   "id": "3370a223-9a42-4745-b31d-3da21fb43766",
   "metadata": {},
   "source": [
    "## Creation and allocation of groups\n",
    "\n",
    "A common task is the creation of groups from within a class. MyLO can do this, but if you need customisability (or functionality) it is often faster to do something yourself. This is a very simple program which takes a class list as exported from MyLO and makes $n$ groups of students $x$ times, and produces an output with these groups which can be distributed as required."
   ]
  },
  {
   "cell_type": "code",
   "execution_count": 2,
   "id": "2df5e0c7-9c56-4697-a0c7-197553d386a6",
   "metadata": {},
   "outputs": [
    {
     "name": "stdin",
     "output_type": "stream",
     "text": [
      "Enter number of classes:  6\n",
      "Enter number of groups:  5\n"
     ]
    },
    {
     "name": "stdout",
     "output_type": "stream",
     "text": [
      "Class 1\n",
      "Question 1: First19 Last19, First3 Last3, First10 Last10, First7 Last7\n",
      "Question 2: First8 Last8, First9 Last9, First2 Last2, First11 Last11\n",
      "Question 3: First6 Last6, First4 Last4, First14 Last14, First15 Last15\n",
      "Question 4: First13 Last13, First12 Last12, First18 Last18, First16 Last16\n",
      "Question 5: First20 Last20, First5 Last5, First17 Last17, First1 Last1\n",
      "\n",
      "Class 2\n",
      "Question 1: First11 Last11, First13 Last13, First6 Last6, First4 Last4\n",
      "Question 2: First10 Last10, First12 Last12, First7 Last7, First9 Last9\n",
      "Question 3: First14 Last14, First1 Last1, First20 Last20, First17 Last17\n",
      "Question 4: First16 Last16, First2 Last2, First15 Last15, First3 Last3\n",
      "Question 5: First8 Last8, First18 Last18, First5 Last5, First19 Last19\n",
      "\n",
      "Class 3\n",
      "Question 1: First14 Last14, First5 Last5, First18 Last18, First9 Last9\n",
      "Question 2: First15 Last15, First16 Last16, First3 Last3, First11 Last11\n",
      "Question 3: First6 Last6, First2 Last2, First7 Last7, First1 Last1\n",
      "Question 4: First19 Last19, First8 Last8, First17 Last17, First10 Last10\n",
      "Question 5: First13 Last13, First20 Last20, First4 Last4, First12 Last12\n",
      "\n",
      "Class 4\n",
      "Question 1: First2 Last2, First1 Last1, First13 Last13, First14 Last14\n",
      "Question 2: First19 Last19, First11 Last11, First15 Last15, First16 Last16\n",
      "Question 3: First6 Last6, First5 Last5, First7 Last7, First4 Last4\n",
      "Question 4: First10 Last10, First12 Last12, First20 Last20, First3 Last3\n",
      "Question 5: First9 Last9, First8 Last8, First17 Last17, First18 Last18\n",
      "\n",
      "Class 5\n",
      "Question 1: First7 Last7, First2 Last2, First8 Last8, First18 Last18\n",
      "Question 2: First6 Last6, First14 Last14, First13 Last13, First15 Last15\n",
      "Question 3: First9 Last9, First12 Last12, First11 Last11, First19 Last19\n",
      "Question 4: First1 Last1, First4 Last4, First5 Last5, First3 Last3\n",
      "Question 5: First20 Last20, First16 Last16, First17 Last17, First10 Last10\n",
      "\n",
      "Class 6\n",
      "Question 1: First15 Last15, First5 Last5, First1 Last1, First17 Last17\n",
      "Question 2: First19 Last19, First13 Last13, First18 Last18, First9 Last9\n",
      "Question 3: First12 Last12, First6 Last6, First11 Last11, First20 Last20\n",
      "Question 4: First8 Last8, First3 Last3, First16 Last16, First7 Last7\n",
      "Question 5: First4 Last4, First10 Last10, First2 Last2, First14 Last14\n",
      "\n",
      "Allocations saved to group_alloc.txt\n"
     ]
    }
   ],
   "source": [
    "import csv # Read the .csv as exported from MyLO\n",
    "import random # Used to randomise the students into groups\n",
    "\n",
    "def assign_students(csv_file, num_classes, num_groups, output_file=\"group_alloc.txt\"):\n",
    "    \"\"\"\n",
    "    assign_students \n",
    "    \n",
    "    :param csv_file: The .csv file from MyLO\n",
    "    :param num_classes: The number of tasks for which groups need be created\n",
    "    :param num_groups: The number of groups for each task\n",
    "    :param output_file: The output file to store the allocations\n",
    "    :return: Empty\n",
    "    \"\"\" \n",
    "    \n",
    "    # Read class list\n",
    "    students = []\n",
    "    with open(csv_file, newline='', encoding=\"utf-8\") as f:\n",
    "        reader = csv.DictReader(f, delimiter=',')\n",
    "        # Parse the .csv for names\n",
    "        for row in reader:\n",
    "            students.append(f\"{row['First Name']} {row['Last Name']}\")\n",
    "\n",
    "    results = []\n",
    "\n",
    "    # Loop over classes\n",
    "    for class_num in range(1, num_classes + 1):\n",
    "        # Make a shuffled list for randomisation\n",
    "        shuffled = students[:]\n",
    "        random.shuffle(shuffled)\n",
    "\n",
    "        # Split into groups\n",
    "        groups = [[] for _ in range(num_groups)]\n",
    "        for i, student in enumerate(shuffled):\n",
    "            groups[i % num_groups].append(student)\n",
    "\n",
    "        # Store results for output\n",
    "        results.append(f\"Class {class_num}\")\n",
    "        for group_num, group in enumerate(groups, start=1):\n",
    "            results.append(f\"Question {group_num}: {', '.join(group)}\")\n",
    "        results.append(\"\")  # blank line between classes\n",
    "\n",
    "    # Print\n",
    "    print(\"\\n\".join(results))\n",
    "\n",
    "    # Write to file\n",
    "    with open(output_file, \"w\", encoding=\"utf-8\") as f:\n",
    "        f.write(\"\\n\".join(results))\n",
    "\n",
    "# Execute\n",
    "if __name__ == \"__main__\":\n",
    "    csv_file = \"fakeclasslist.csv\"  # change to your CSV file name\n",
    "    num_classes = int(input(\"Enter number of classes: \"))\n",
    "    num_groups = int(input(\"Enter number of groups: \"))\n",
    "    assign_students(csv_file, num_classes, num_groups)\n",
    "    print(\"Allocations saved to group_alloc.txt\")\n"
   ]
  },
  {
   "cell_type": "code",
   "execution_count": null,
   "id": "03f54cdf-3fd7-41ad-bc3c-b044c021166b",
   "metadata": {},
   "outputs": [],
   "source": []
  }
 ],
 "metadata": {
  "kernelspec": {
   "display_name": "Python 3 (ipykernel)",
   "language": "python",
   "name": "python3"
  },
  "language_info": {
   "codemirror_mode": {
    "name": "ipython",
    "version": 3
   },
   "file_extension": ".py",
   "mimetype": "text/x-python",
   "name": "python",
   "nbconvert_exporter": "python",
   "pygments_lexer": "ipython3",
   "version": "3.13.5"
  }
 },
 "nbformat": 4,
 "nbformat_minor": 5
}
